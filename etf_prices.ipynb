{
 "cells": [
  {
   "cell_type": "code",
   "execution_count": null,
   "id": "5ead84a5",
   "metadata": {},
   "outputs": [],
   "source": [
    "import pandas as pd\n",
    "from config import settings\n",
    "from data import AlphaVantageAPI"
   ]
  },
  {
   "cell_type": "code",
   "execution_count": null,
   "id": "dc0edd39",
   "metadata": {},
   "outputs": [],
   "source": [
    "av = AlphaVantageAPI()"
   ]
  },
  {
   "cell_type": "code",
   "execution_count": null,
   "id": "75e7a363",
   "metadata": {},
   "outputs": [],
   "source": [
    "# list of ETFs\n",
    "tickers = [\"SPY\", \"VEA\", \"EEM\", \"IWM\", \"VNQ\", \"IEF\", \"LQD\"]\n",
    "\n",
    "dfs = {}\n",
    "\n",
    "for ticker in tickers:\n",
    "    df = av.get_daily(ticker=ticker)\n",
    "    \n",
    "    # ensure index is datetime\n",
    "    df.index = pd.to_datetime(df.index)\n",
    "    \n",
    "    # sort ascending\n",
    "    df = df.sort_index()\n",
    "    \n",
    "    # keep only 'close' and rename column to ticker\n",
    "    df = df[['close']].rename(columns={'close': ticker})\n",
    "    dfs[ticker] = df\n",
    "\n",
    "# merge all into a single dataframe\n",
    "combined = pd.concat(dfs.values(), axis=1, join='inner')\n",
    "\n",
    "# filter date range from 2013-01-01 to 2024-08-01\n",
    "combined = combined.loc[\"2013-01-01\":\"2024-08-01\"]\n",
    "\n",
    "print(combined.head())\n",
    "print(combined.tail())"
   ]
  },
  {
   "cell_type": "code",
   "execution_count": null,
   "id": "4a4c775a",
   "metadata": {},
   "outputs": [],
   "source": [
    "combined.to_csv(\"etf_prices.csv\")"
   ]
  }
 ],
 "metadata": {
  "kernelspec": {
   "display_name": "myenv",
   "language": "python",
   "name": "python3"
  },
  "language_info": {
   "codemirror_mode": {
    "name": "ipython",
    "version": 3
   },
   "file_extension": ".py",
   "mimetype": "text/x-python",
   "name": "python",
   "nbconvert_exporter": "python",
   "pygments_lexer": "ipython3",
   "version": "3.9.7"
  }
 },
 "nbformat": 4,
 "nbformat_minor": 5
}
